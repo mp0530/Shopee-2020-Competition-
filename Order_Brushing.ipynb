{
 "cells": [
  {
   "cell_type": "code",
   "execution_count": 215,
   "metadata": {},
   "outputs": [],
   "source": [
    "import pandas as pd\n",
    "from datetime import datetime\n",
    "from datetime import timedelta\n",
    "import time\n",
    "from collections import defaultdict"
   ]
  },
  {
   "cell_type": "code",
   "execution_count": 216,
   "metadata": {},
   "outputs": [],
   "source": [
    "x = pd.read_csv(\"order_brush_order.csv\")"
   ]
  },
  {
   "cell_type": "code",
   "execution_count": 217,
   "metadata": {},
   "outputs": [
    {
     "data": {
      "text/html": [
       "<div>\n",
       "<style scoped>\n",
       "    .dataframe tbody tr th:only-of-type {\n",
       "        vertical-align: middle;\n",
       "    }\n",
       "\n",
       "    .dataframe tbody tr th {\n",
       "        vertical-align: top;\n",
       "    }\n",
       "\n",
       "    .dataframe thead th {\n",
       "        text-align: right;\n",
       "    }\n",
       "</style>\n",
       "<table border=\"1\" class=\"dataframe\">\n",
       "  <thead>\n",
       "    <tr style=\"text-align: right;\">\n",
       "      <th></th>\n",
       "      <th>orderid</th>\n",
       "      <th>shopid</th>\n",
       "      <th>userid</th>\n",
       "      <th>event_time</th>\n",
       "    </tr>\n",
       "  </thead>\n",
       "  <tbody>\n",
       "    <tr>\n",
       "      <th>0</th>\n",
       "      <td>31076582227611</td>\n",
       "      <td>93950878</td>\n",
       "      <td>30530270</td>\n",
       "      <td>2019-12-27 00:23:03</td>\n",
       "    </tr>\n",
       "    <tr>\n",
       "      <th>1</th>\n",
       "      <td>31118059853484</td>\n",
       "      <td>156423439</td>\n",
       "      <td>46057927</td>\n",
       "      <td>2019-12-27 11:54:20</td>\n",
       "    </tr>\n",
       "    <tr>\n",
       "      <th>2</th>\n",
       "      <td>31123355095755</td>\n",
       "      <td>173699291</td>\n",
       "      <td>67341739</td>\n",
       "      <td>2019-12-27 13:22:35</td>\n",
       "    </tr>\n",
       "    <tr>\n",
       "      <th>3</th>\n",
       "      <td>31122059872723</td>\n",
       "      <td>63674025</td>\n",
       "      <td>149380322</td>\n",
       "      <td>2019-12-27 13:01:00</td>\n",
       "    </tr>\n",
       "    <tr>\n",
       "      <th>4</th>\n",
       "      <td>31117075665123</td>\n",
       "      <td>127249066</td>\n",
       "      <td>149493217</td>\n",
       "      <td>2019-12-27 11:37:55</td>\n",
       "    </tr>\n",
       "  </tbody>\n",
       "</table>\n",
       "</div>"
      ],
      "text/plain": [
       "          orderid     shopid     userid           event_time\n",
       "0  31076582227611   93950878   30530270  2019-12-27 00:23:03\n",
       "1  31118059853484  156423439   46057927  2019-12-27 11:54:20\n",
       "2  31123355095755  173699291   67341739  2019-12-27 13:22:35\n",
       "3  31122059872723   63674025  149380322  2019-12-27 13:01:00\n",
       "4  31117075665123  127249066  149493217  2019-12-27 11:37:55"
      ]
     },
     "execution_count": 217,
     "metadata": {},
     "output_type": "execute_result"
    }
   ],
   "source": [
    "x.head()"
   ]
  },
  {
   "cell_type": "code",
   "execution_count": 218,
   "metadata": {},
   "outputs": [],
   "source": [
    "x[\"event_time\"] = pd.to_datetime(x.event_time)"
   ]
  },
  {
   "cell_type": "code",
   "execution_count": 219,
   "metadata": {},
   "outputs": [],
   "source": [
    "x = x.sort_values(by='event_time')"
   ]
  },
  {
   "cell_type": "code",
   "execution_count": 220,
   "metadata": {},
   "outputs": [
    {
     "data": {
      "text/html": [
       "<div>\n",
       "<style scoped>\n",
       "    .dataframe tbody tr th:only-of-type {\n",
       "        vertical-align: middle;\n",
       "    }\n",
       "\n",
       "    .dataframe tbody tr th {\n",
       "        vertical-align: top;\n",
       "    }\n",
       "\n",
       "    .dataframe thead th {\n",
       "        text-align: right;\n",
       "    }\n",
       "</style>\n",
       "<table border=\"1\" class=\"dataframe\">\n",
       "  <thead>\n",
       "    <tr style=\"text-align: right;\">\n",
       "      <th></th>\n",
       "      <th>orderid</th>\n",
       "      <th>shopid</th>\n",
       "      <th>userid</th>\n",
       "      <th>event_time</th>\n",
       "    </tr>\n",
       "  </thead>\n",
       "  <tbody>\n",
       "    <tr>\n",
       "      <th>150060</th>\n",
       "      <td>31075200506751</td>\n",
       "      <td>6042309</td>\n",
       "      <td>97707522</td>\n",
       "      <td>2019-12-27 00:00:00</td>\n",
       "    </tr>\n",
       "    <tr>\n",
       "      <th>25985</th>\n",
       "      <td>31075200506752</td>\n",
       "      <td>104804492</td>\n",
       "      <td>97707522</td>\n",
       "      <td>2019-12-27 00:00:00</td>\n",
       "    </tr>\n",
       "    <tr>\n",
       "      <th>81020</th>\n",
       "      <td>31075200506753</td>\n",
       "      <td>8715449</td>\n",
       "      <td>97707522</td>\n",
       "      <td>2019-12-27 00:00:00</td>\n",
       "    </tr>\n",
       "    <tr>\n",
       "      <th>146598</th>\n",
       "      <td>31075201870570</td>\n",
       "      <td>190969466</td>\n",
       "      <td>170182475</td>\n",
       "      <td>2019-12-27 00:00:02</td>\n",
       "    </tr>\n",
       "    <tr>\n",
       "      <th>80355</th>\n",
       "      <td>31075205798264</td>\n",
       "      <td>2859407</td>\n",
       "      <td>12532131</td>\n",
       "      <td>2019-12-27 00:00:05</td>\n",
       "    </tr>\n",
       "  </tbody>\n",
       "</table>\n",
       "</div>"
      ],
      "text/plain": [
       "               orderid     shopid     userid          event_time\n",
       "150060  31075200506751    6042309   97707522 2019-12-27 00:00:00\n",
       "25985   31075200506752  104804492   97707522 2019-12-27 00:00:00\n",
       "81020   31075200506753    8715449   97707522 2019-12-27 00:00:00\n",
       "146598  31075201870570  190969466  170182475 2019-12-27 00:00:02\n",
       "80355   31075205798264    2859407   12532131 2019-12-27 00:00:05"
      ]
     },
     "execution_count": 220,
     "metadata": {},
     "output_type": "execute_result"
    }
   ],
   "source": [
    "x.head()"
   ]
  },
  {
   "cell_type": "code",
   "execution_count": 224,
   "metadata": {},
   "outputs": [],
   "source": [
    "c = defaultdict(set)\n",
    "d = {}\n",
    "for i, row in x[0:222750].iterrows(): #row[1] == shopid\n",
    "    shopid = row[1]\n",
    "    userid = row[2]\n",
    "    time = row[3]\n",
    "    if shopid not in d:\n",
    "        d[shopid] = [(time,userid)] #0:time 1:userid\n",
    "    else:\n",
    "        d[shopid] += [(time,userid)]\n",
    "        count = defaultdict(int)\n",
    "        for j in reversed(range(len(d[shopid]))):\n",
    "            if timedelta.total_seconds(time - d[shopid][j][0]) > 3600: # check if not within an hour\n",
    "                break\n",
    "            else:\n",
    "                count[d[shopid][j][1]] += 1 # count(userid) + 1\n",
    " \n",
    "        for k in count: # read counts\n",
    "            if count[k] >= 3:\n",
    "                c[shopid].add(k) # shopid.append(userid)\n",
    "                "
   ]
  },
  {
   "cell_type": "code",
   "execution_count": 225,
   "metadata": {},
   "outputs": [],
   "source": [
    "s = pd.DataFrame({\"shopid\": x[\"shopid\"].unique(), \"userid\": \"0\"})\n",
    "for i in range(18770):\n",
    "    a = s.iloc[i,0]\n",
    "    if a in c:\n",
    "        s.iloc[i,1] = \"&\".join(str(i) for i in c[a])"
   ]
  },
  {
   "cell_type": "code",
   "execution_count": 227,
   "metadata": {},
   "outputs": [],
   "source": [
    "s.to_csv(\"export.csv\")"
   ]
  }
 ],
 "metadata": {
  "kernelspec": {
   "display_name": "Python 3",
   "language": "python",
   "name": "python3"
  },
  "language_info": {
   "codemirror_mode": {
    "name": "ipython",
    "version": 3
   },
   "file_extension": ".py",
   "mimetype": "text/x-python",
   "name": "python",
   "nbconvert_exporter": "python",
   "pygments_lexer": "ipython3",
   "version": "3.7.6"
  }
 },
 "nbformat": 4,
 "nbformat_minor": 4
}
